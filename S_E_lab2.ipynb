{
  "nbformat": 4,
  "nbformat_minor": 0,
  "metadata": {
    "colab": {
      "provenance": [],
      "authorship_tag": "ABX9TyNs+WEi582WN3xhLgUAetI6",
      "include_colab_link": true
    },
    "kernelspec": {
      "name": "python3",
      "display_name": "Python 3"
    },
    "language_info": {
      "name": "python"
    }
  },
  "cells": [
    {
      "cell_type": "markdown",
      "metadata": {
        "id": "view-in-github",
        "colab_type": "text"
      },
      "source": [
        "<a href=\"https://colab.research.google.com/github/Chai-tu/Collab-Programs/blob/main/S_E_lab2.ipynb\" target=\"_parent\"><img src=\"https://colab.research.google.com/assets/colab-badge.svg\" alt=\"Open In Colab\"/></a>"
      ]
    },
    {
      "cell_type": "markdown",
      "source": [],
      "metadata": {
        "id": "e3I9GwT75Y7u"
      }
    },
    {
      "cell_type": "code",
      "execution_count": 1,
      "metadata": {
        "id": "3DhPLpBs5XSy"
      },
      "outputs": [],
      "source": [
        "def temperature(x, a, b, c):\n",
        "    \"\"\"\n",
        "    Calculate temperature based on the formula:\n",
        "    temperature(x) = ax^2 + bx + c\n",
        "    \"\"\"\n",
        "    return a * x**2 + b * x + c"
      ]
    },
    {
      "cell_type": "markdown",
      "source": [
        "**Hardcoding Variables**"
      ],
      "metadata": {
        "id": "SOISgTy75nrj"
      }
    },
    {
      "cell_type": "code",
      "source": [
        "# Hardcoded values\n",
        "a = 1.0\n",
        "b = -2.0\n",
        "c = 5.0\n",
        "x = 3.0\n",
        "\n",
        "result = temperature(x, a, b, c)\n",
        "print(f\"Hardcoding Variables: For x = {x}, Temperature = {result}\")\n"
      ],
      "metadata": {
        "colab": {
          "base_uri": "https://localhost:8080/"
        },
        "id": "7L2QQxCi5nHg",
        "outputId": "2d818dec-0e46-4476-d6a5-81948f5689d3"
      },
      "execution_count": 2,
      "outputs": [
        {
          "output_type": "stream",
          "name": "stdout",
          "text": [
            "Hardcoding Variables: For x = 3.0, Temperature = 8.0\n"
          ]
        }
      ]
    },
    {
      "cell_type": "markdown",
      "source": [
        "**Keyboard Input**"
      ],
      "metadata": {
        "id": "m6FSHQ_55xI7"
      }
    },
    {
      "cell_type": "code",
      "source": [
        "# Keyboard input\n",
        "try:\n",
        "    a = float(input(\"Enter the coefficient a: \"))\n",
        "    b = float(input(\"Enter the coefficient b: \"))\n",
        "    c = float(input(\"Enter the constant c: \"))\n",
        "    x = float(input(\"Enter the value of x: \"))\n",
        "\n",
        "    result = temperature(x, a, b, c)\n",
        "    print(f\"Keyboard Input: For x = {x}, Temperature = {result}\")\n",
        "except ValueError:\n",
        "    print(\"Invalid input! Please enter numerical values.\")\n"
      ],
      "metadata": {
        "colab": {
          "base_uri": "https://localhost:8080/"
        },
        "id": "HglLVvBR503w",
        "outputId": "d32f3635-7ef6-417f-8f0f-1f5e92b93a37"
      },
      "execution_count": 3,
      "outputs": [
        {
          "output_type": "stream",
          "name": "stdout",
          "text": [
            "Enter the coefficient a: 15\n",
            "Enter the coefficient b: 2\n",
            "Enter the constant c: 31\n",
            "Enter the value of x: 5\n",
            "Keyboard Input: For x = 5.0, Temperature = 416.0\n"
          ]
        }
      ]
    },
    {
      "cell_type": "markdown",
      "source": [
        "**Read from file Single valued**"
      ],
      "metadata": {
        "id": "3H0Pa_RB53c1"
      }
    },
    {
      "cell_type": "code",
      "source": [
        "# Single valued\n",
        "def calculate_temperature(a, b, c, x):\n",
        "    \"\"\"\n",
        "    Calculate temperature using the quadratic formula.\n",
        "    \"\"\"\n",
        "    return a * x**2 + b * x + c\n",
        "\n",
        "try:\n",
        "    with open(\"single_input.txt\", \"r\") as file:\n",
        "        lines = file.readlines()\n",
        "\n",
        "    print(f\"Raw file content: {lines}\")\n",
        "    data = [float(line.strip()) for line in lines]\n",
        "\n",
        "    print(f\"Parsed numerical data: {data}\")\n",
        "\n",
        "    if len(data) != 4:\n",
        "        raise ValueError(\"File must contain exactly 4 numerical values.\")\n",
        "\n",
        "    a, b, c, x = data\n",
        "\n",
        "    temperature = calculate_temperature(a, b, c, x)\n",
        "    print(f\"Single Value Example: For x = {x}, Temperature = {temperature}\")\n",
        "\n",
        "except FileNotFoundError:\n",
        "    print(\"File not found. Please ensure 'single_input.txt' exists.\")\n",
        "except ValueError as ve:\n",
        "    print(f\"Invalid data in the file. Error: {ve}\")\n"
      ],
      "metadata": {
        "colab": {
          "base_uri": "https://localhost:8080/"
        },
        "id": "Tj9dBC6I56n_",
        "outputId": "a4cb9100-a289-4743-ab5c-9119bc7ccc00"
      },
      "execution_count": 4,
      "outputs": [
        {
          "output_type": "stream",
          "name": "stdout",
          "text": [
            "Raw file content: ['1.0\\n', '-2.0\\n', '5.0\\n', '3.0\\n']\n",
            "Parsed numerical data: [1.0, -2.0, 5.0, 3.0]\n",
            "Single Value Example: For x = 3.0, Temperature = 8.0\n"
          ]
        }
      ]
    },
    {
      "cell_type": "markdown",
      "source": [
        "**Read From File Multi valued**"
      ],
      "metadata": {
        "id": "TMkK9hNz59Du"
      }
    },
    {
      "cell_type": "code",
      "source": [
        "# Multivalued\n",
        "try:\n",
        "    with open(\"multiple_inputs.txt\", \"r\") as file:\n",
        "        data = [list(map(float, line.strip().split())) for line in file]\n",
        "\n",
        "    for inputs in data:\n",
        "        a, b, c, x = inputs\n",
        "        temperature = a * x**2 + b * x + c\n",
        "        print(f\"Multiple Inputs: For x = {x}, Temperature = {temperature}\")\n",
        "except FileNotFoundError:\n",
        "    print(\"File not found. Please ensure 'multiple_inputs.txt' exists.\")\n",
        "except ValueError:\n",
        "    print(\"Invalid data in the file. Ensure each line contains numerical values.\")\n"
      ],
      "metadata": {
        "colab": {
          "base_uri": "https://localhost:8080/"
        },
        "id": "mkl-C8rn6AwM",
        "outputId": "1f393113-8f92-42be-b154-b7788e7c33f8"
      },
      "execution_count": 5,
      "outputs": [
        {
          "output_type": "stream",
          "name": "stdout",
          "text": [
            "Multiple Inputs: For x = 3.0, Temperature = 8.0\n",
            "Multiple Inputs: For x = 4.0, Temperature = 13.0\n",
            "Multiple Inputs: For x = 5.0, Temperature = 20.0\n"
          ]
        }
      ]
    },
    {
      "cell_type": "markdown",
      "source": [
        "**Save All Versions**"
      ],
      "metadata": {
        "id": "vgqMTXvI6EdJ"
      }
    },
    {
      "cell_type": "code",
      "source": [
        "# Save temperatures to a file\n",
        "try:\n",
        "    results = [\n",
        "        {\"a\": 1.0, \"b\": -2.0, \"c\": 5.0, \"x\": 3.0, \"temperature\": 12.0},\n",
        "        {\"a\": 1.0, \"b\": -2.0, \"c\": 5.0, \"x\": 4.0, \"temperature\": 17.0},\n",
        "    ]\n",
        "\n",
        "    with open(\"weather_model_results.txt\", \"w\") as file:\n",
        "        for result in results:\n",
        "            file.write(f\"{result}\\n\")\n",
        "    print(\"Results saved to 'weather_model_results.txt'.\")\n",
        "except Exception as e:\n",
        "    print(f\"Error while saving results: {e}\")\n"
      ],
      "metadata": {
        "colab": {
          "base_uri": "https://localhost:8080/"
        },
        "id": "uyNKRvY-6JbO",
        "outputId": "3faccba6-7cec-4f91-f81e-0b7f6a7e755d"
      },
      "execution_count": 6,
      "outputs": [
        {
          "output_type": "stream",
          "name": "stdout",
          "text": [
            "Results saved to 'weather_model_results.txt'.\n"
          ]
        }
      ]
    }
  ]
}